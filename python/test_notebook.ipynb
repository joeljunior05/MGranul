{
 "cells": [
  {
   "cell_type": "code",
   "execution_count": 1,
   "metadata": {},
   "outputs": [],
   "source": [
    "from python.module import msgranul\n",
    "import numpy as np\n",
    "from skimage.io import imread, imshow, imsave\n",
    "import skimage"
   ]
  },
  {
   "cell_type": "code",
   "execution_count": 2,
   "metadata": {},
   "outputs": [
    {
     "name": "stdout",
     "output_type": "stream",
     "text": [
      "<module 'python.module.msgranul' from '/home/jovyan/python/module/msgranul.cpython-36m-x86_64-linux-gnu.so'>\n",
      "0.13.1\n"
     ]
    }
   ],
   "source": [
    "print(msgranul)\n",
    "print (skimage.__version__)"
   ]
  },
  {
   "cell_type": "code",
   "execution_count": 3,
   "metadata": {},
   "outputs": [
    {
     "name": "stdout",
     "output_type": "stream",
     "text": [
      "6\n"
     ]
    },
    {
     "data": {
      "text/plain": [
       "<matplotlib.image.AxesImage at 0x7f2ff604eb70>"
      ]
     },
     "execution_count": 3,
     "metadata": {},
     "output_type": "execute_result"
    },
    {
     "data": {
      "image/png": "[encoded data removed]",
      "text/plain": [
       "<matplotlib.figure.Figure at 0x7f2ff614eba8>"
      ]
     },
     "metadata": {},
     "output_type": "display_data"
    }
   ],
   "source": [
    "im = imread(\"python/demo.jpg\")\n",
    "\n",
    "kernels = msgranul.createkernels('c', 15, 15)\n",
    "print( len(kernels))\n",
    "imshow (kernels[5].imgry)"
   ]
  },
  {
   "cell_type": "code",
   "execution_count": 4,
   "metadata": {},
   "outputs": [
    {
     "name": "stdout",
     "output_type": "stream",
     "text": [
      "[[[254 254 246]\n",
      "  [254 254 246]\n",
      "  [254 254 246]\n",
      "  ..., \n",
      "  [252 255 237]\n",
      "  [255 255 234]\n",
      "  [255 255 234]]\n",
      "\n",
      " [[254 254 246]\n",
      "  [254 254 246]\n",
      "  [254 254 246]\n",
      "  ..., \n",
      "  [250 255 235]\n",
      "  [252 254 232]\n",
      "  [252 254 232]]\n",
      "\n",
      " [[254 254 246]\n",
      "  [254 254 246]\n",
      "  [254 254 246]\n",
      "  ..., \n",
      "  [249 254 234]\n",
      "  [249 254 231]\n",
      "  [249 254 231]]\n",
      "\n",
      " ..., \n",
      " [[254 253 248]\n",
      "  [254 253 248]\n",
      "  [254 254 246]\n",
      "  ..., \n",
      "  [243 255 233]\n",
      "  [238 253 232]\n",
      "  [238 253 232]]\n",
      "\n",
      " [[254 253 248]\n",
      "  [254 253 248]\n",
      "  [254 253 248]\n",
      "  ..., \n",
      "  [243 255 235]\n",
      "  [233 255 230]\n",
      "  [233 255 230]]\n",
      "\n",
      " [[254 253 248]\n",
      "  [254 253 248]\n",
      "  [254 253 248]\n",
      "  ..., \n",
      "  [243 255 235]\n",
      "  [230 255 229]\n",
      "  [230 255 229]]]\n",
      "0.2965161204338074\n"
     ]
    }
   ],
   "source": [
    "print (im)\n",
    "locals = msgranul.correlate(im, kernels, 0.1)\n",
    "print( locals[0].correlation)"
   ]
  },
  {
   "cell_type": "code",
   "execution_count": 5,
   "metadata": {},
   "outputs": [
    {
     "name": "stdout",
     "output_type": "stream",
     "text": [
      "69\n"
     ]
    }
   ],
   "source": [
    "locals, out = msgranul.apply(im, locals, 0.2)\n",
    "print( len(locals))\n",
    "imsave(\"output.jpg\", out)"
   ]
  },
  {
   "cell_type": "code",
   "execution_count": 6,
   "metadata": {},
   "outputs": [
    {
     "data": {
      "text/plain": [
       "<matplotlib.image.AxesImage at 0x7f2ff52be0b8>"
      ]
     },
     "execution_count": 6,
     "metadata": {},
     "output_type": "execute_result"
    },
    {
     "data": {
      "image/png": "[encoded data removed]",
      "text/plain": [
       "<matplotlib.figure.Figure at 0x7f2ff5fcc278>"
      ]
     },
     "metadata": {},
     "output_type": "display_data"
    }
   ],
   "source": [
    "images = msgranul.extract(im, locals)\n",
    "imshow(images[50])"
   ]
  },
  {
   "cell_type": "code",
   "execution_count": 7,
   "metadata": {},
   "outputs": [],
   "source": [
    "for i in range( len(images)):\n",
    "    imsave(str(i) + \".jpg\", images[i])"
   ]
  },
  {
   "cell_type": "code",
   "execution_count": null,
   "metadata": {},
   "outputs": [],
   "source": []
  }
 ],
 "metadata": {
  "kernelspec": {
   "display_name": "Python 3",
   "language": "python",
   "name": "python3"
  },
  "language_info": {
   "codemirror_mode": {
    "name": "ipython",
    "version": 3
   },
   "file_extension": ".py",
   "mimetype": "text/x-python",
   "name": "python",
   "nbconvert_exporter": "python",
   "pygments_lexer": "ipython3",
   "version": "3.6.3"
  }
 },
 "nbformat": 4,
 "nbformat_minor": 2
}
